{
 "cells": [
  {
   "cell_type": "markdown",
   "id": "c5242ca0",
   "metadata": {},
   "source": [
    "# Chargement et nettoyage des données"
   ]
  },
  {
   "cell_type": "code",
   "execution_count": 9,
   "id": "3d783b0f",
   "metadata": {},
   "outputs": [
    {
     "name": "stdout",
     "output_type": "stream",
     "text": [
      "Aperçu des données :\n",
      "    OrderNumber  OrderDate  Ship Date  Customer Name Index      Channel  \\\n",
      "0   SO - 000225 2017-01-01 2017-01-13                   28    Wholesale   \n",
      "1  SO - 0003378 2017-01-01 2017-01-06                    7  Distributor   \n",
      "2  SO - 0003901 2017-01-01 2017-01-05                   12    Wholesale   \n",
      "3  SO - 0005126 2017-01-01 2017-01-17                    5    Wholesale   \n",
      "4  SO - 0005614 2017-01-01 2017-01-07                   27       Export   \n",
      "\n",
      "  Currency Code Warehouse Code  Delivery Region Index  \\\n",
      "0           NZD         AXW291                     71   \n",
      "1           NZD         AXW291                     54   \n",
      "2           NZD         AXW291                     58   \n",
      "3           USD         AXW291                     29   \n",
      "4           NZD         AXW291                     31   \n",
      "\n",
      "   Product Description Index  Order Quantity  Unit Selling Price  Unit Cost  \n",
      "0                         11               6              2499.1   1824.343  \n",
      "1                          7              11              2351.7   1269.918  \n",
      "2                         13               5              1728.6   1019.874  \n",
      "3                          7               6               978.2    684.740  \n",
      "4                          6               7              2338.3   1028.852  \n",
      "\n",
      "Dimensions : (7991, 12)\n",
      "\n",
      "Types de données :\n",
      "OrderNumber                          object\n",
      "OrderDate                    datetime64[ns]\n",
      "Ship Date                    datetime64[ns]\n",
      "Customer Name Index                   int64\n",
      "Channel                              object\n",
      "Currency Code                        object\n",
      "Warehouse Code                       object\n",
      "Delivery Region Index                 int64\n",
      "Product Description Index             int64\n",
      "Order Quantity                        int64\n",
      "Unit Selling Price                  float64\n",
      "Unit Cost                           float64\n",
      "dtype: object\n",
      "\n",
      "Valeurs manquantes :\n",
      "OrderNumber                  0\n",
      "OrderDate                    0\n",
      "Ship Date                    0\n",
      "Customer Name Index          0\n",
      "Channel                      0\n",
      "Currency Code                0\n",
      "Warehouse Code               0\n",
      "Delivery Region Index        0\n",
      "Product Description Index    0\n",
      "Order Quantity               0\n",
      "Unit Selling Price           0\n",
      "Unit Cost                    0\n",
      "dtype: int64\n",
      "\n",
      "Doublons : 0\n"
     ]
    }
   ],
   "source": [
    "import pandas as pd\n",
    "\n",
    "# Chargement du fichier Excel\n",
    "df = pd.read_excel(\"sales.xlsx\")\n",
    "\n",
    "# Aperçu du DataFrame\n",
    "print(\"Aperçu des données :\")\n",
    "print(df.head())\n",
    "\n",
    "# Dimensions du DataFrame\n",
    "print(\"\\nDimensions :\", df.shape)\n",
    "\n",
    "# Vérifier les types de données\n",
    "print(\"\\nTypes de données :\")\n",
    "print(df.dtypes)\n",
    "\n",
    "# Chercher les valeurs manquantes\n",
    "print(\"\\nValeurs manquantes :\")\n",
    "print(df.isnull().sum())\n",
    "\n",
    "# Chercher les doublons\n",
    "print(\"\\nDoublons :\", df.duplicated().sum())"
   ]
  },
  {
   "cell_type": "markdown",
   "id": "27277642",
   "metadata": {},
   "source": [
    "# Création des colonnes calculées\n",
    "\n",
    "Les colonnes suivantes sont créées à partir des données disponibles :\n",
    "\n",
    "**Sales** = Order Quantity × Unit Selling Price  \n",
    "**Cost** = Order Quantity × Unit Cost  \n",
    "**Profit** = Sales − Cost"
   ]
  },
  {
   "cell_type": "code",
   "execution_count": null,
   "id": "f4dcd81e",
   "metadata": {},
   "outputs": [
    {
     "name": "stdout",
     "output_type": "stream",
     "text": [
      "   OrderDate  Year  Month Month Name  Quarter Day Name\n",
      "0 2017-01-01  2017      1    January        1   Sunday\n",
      "1 2017-01-01  2017      1    January        1   Sunday\n",
      "2 2017-01-01  2017      1    January        1   Sunday\n",
      "3 2017-01-01  2017      1    January        1   Sunday\n",
      "4 2017-01-01  2017      1    January        1   Sunday\n"
     ]
    }
   ],
   "source": [
    "import pandas as pd\n",
    "\n",
    "# Chargement du fichier Excel\n",
    "df = pd.read_excel(\"sales.xlsx\")\n",
    "\n",
    "# Recréer la table de dates à partir de OrderDate\n",
    "date_range = pd.date_range(start=df[\"OrderDate\"].min(), end=df[\"OrderDate\"].max(), freq='D')\n",
    "date_table = pd.DataFrame({\"Date\": date_range})\n",
    "\n",
    "date_table[\"Year\"] = date_table[\"Date\"].dt.year\n",
    "date_table[\"Month\"] = date_table[\"Date\"].dt.month\n",
    "date_table[\"Month Name\"] = date_table[\"Date\"].dt.strftime('%B')\n",
    "date_table[\"Quarter\"] = date_table[\"Date\"].dt.quarter\n",
    "date_table[\"Day\"] = date_table[\"Date\"].dt.day\n",
    "date_table[\"Day Name\"] = date_table[\"Date\"].dt.strftime('%A')\n",
    "date_table[\"Week\"] = date_table[\"Date\"].dt.isocalendar().week\n",
    "\n",
    "# Renommer la colonne \"Date\" de la table de dates\n",
    "date_table_renamed = date_table.rename(columns={\"Date\": \"OrderDate\"})\n",
    "\n",
    "# Fusion des deux DataFrames sur la colonne OrderDate\n",
    "df_merged = pd.merge(df, date_table_renamed, on=\"OrderDate\", how=\"left\")\n",
    "\n",
    "# Afficher un aperçu du résultat\n",
    "print(df_merged[[\"OrderDate\", \"Year\", \"Month\", \"Month Name\", \"Quarter\", \"Day Name\"]].head())\n"
   ]
  }
 ],
 "metadata": {
  "kernelspec": {
   "display_name": "base",
   "language": "python",
   "name": "python3"
  },
  "language_info": {
   "codemirror_mode": {
    "name": "ipython",
    "version": 3
   },
   "file_extension": ".py",
   "mimetype": "text/x-python",
   "name": "python",
   "nbconvert_exporter": "python",
   "pygments_lexer": "ipython3",
   "version": "3.12.7"
  }
 },
 "nbformat": 4,
 "nbformat_minor": 5
}

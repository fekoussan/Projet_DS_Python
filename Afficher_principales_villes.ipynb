{
 "cells": [
  {
   "cell_type": "markdown",
   "id": "d032093a",
   "metadata": {},
   "source": [
    "# Afficher les 5 principales villes en fonction des ventes\n",
    "- Visualisation: Ventes par produit + comparaison année précédente"
   ]
  },
  {
   "cell_type": "code",
   "execution_count": null,
   "id": "6eec09a9",
   "metadata": {},
   "outputs": [],
   "source": [
    "# Ajouter les colonnes calculées si ce n'est pas encore fait\n",
    "import pandas as pd\n",
    "import seaborn as sns\n",
    "import matplotlib.pyplot as plt\n",
    "\n",
    "# Lire le fichier\n",
    "df = pd.read_excel(\"sales.xlsx\")\n",
    "\n",
    "# Créer les colonnes calculées correctement\n",
    "df[\"Sales\"] = df[\"Order Quantity\"] * df[\"Unit Selling Price\"]\n",
    "df[\"Cost\"] = df[\"Order Quantity\"] * df[\"Unit Cost\"]\n",
    "df[\"Profit\"] = df[\"Sales\"] - df[\"Cost\"]\n",
    "\n",
    "# Créer la table de dates à partir de OrderDate\n",
    "date_range = pd.date_range(start=df[\"OrderDate\"].min(), end=df[\"OrderDate\"].max(), freq='D')\n",
    "date_table = pd.DataFrame({\"Date\": date_range})\n",
    "\n",
    "date_table[\"Year\"] = date_table[\"Date\"].dt.year\n",
    "date_table[\"Month\"] = date_table[\"Date\"].dt.month\n",
    "date_table[\"Month Name\"] = date_table[\"Date\"].dt.strftime('%B')\n",
    "date_table[\"Quarter\"] = date_table[\"Date\"].dt.quarter\n",
    "date_table[\"Day\"] = date_table[\"Date\"].dt.day\n",
    "date_table[\"Day Name\"] = date_table[\"Date\"].dt.strftime('%A')\n",
    "date_table[\"Week\"] = date_table[\"Date\"].dt.isocalendar().week\n",
    "\n",
    "# Renommer la colonne pour correspondre à OrderDate\n",
    "date_table_renamed = date_table.rename(columns={\"Date\": \"OrderDate\"})\n",
    "# Fusion\n",
    "df_merged = pd.merge(df, date_table_renamed, on=\"OrderDate\", how=\"left\")\n",
    "\n",
    "# Top 5 des régions (ou villes) par ventes\n",
    "top5_regions = df.groupby(\"Delivery Region Index\").agg({\n",
    "    \"Sales\": \"sum\"\n",
    "}).sort_values(by=\"Sales\", ascending=False).head(5).reset_index()\n",
    "\n",
    "# Affichage\n",
    "print(\"Top 5 régions par ventes :\")\n",
    "print(top5_regions)\n",
    "\n",
    "plt.figure(figsize=(8, 5))\n",
    "sns.barplot(data=top5_regions, x=\"Delivery Region Index\", y=\"Sales\", palette=\"viridis\")\n",
    "plt.title(\"Top 5 régions par ventes\")\n",
    "plt.xlabel(\"Région (Index)\")\n",
    "plt.ylabel(\"Ventes\")\n",
    "plt.tight_layout()\n",
    "plt.show()\n",
    "\n",
    "# Comparer les bénéfices par canal de vente (Channel) avec ceux de l’année précédente\n",
    "print(\"\\nComparaison des bénéfices par canal de vente :\")\n",
    "# Regrouper par canal et année\n",
    "channel_profit = df_merged.groupby([\"Channel\", \"Year\"]).agg({\n",
    "    \"Profit\": \"sum\"\n",
    "}).reset_index()\n",
    "\n",
    "# Trier les données par canal et année pour appliquer le shift\n",
    "channel_profit = channel_profit.sort_values(by=[\"Channel\", \"Year\"])\n",
    "\n",
    "# Calcul de la colonne \"Profit PY\"\n",
    "channel_profit[\"Profit PY\"] = channel_profit.groupby(\"Channel\")[\"Profit\"].shift(1)\n",
    "\n",
    "# Calcul de la variation absolue et en pourcentage\n",
    "channel_profit[\"Profit Var\"] = channel_profit[\"Profit\"] - channel_profit[\"Profit PY\"]\n",
    "channel_profit[\"Profit Var %\"] = (channel_profit[\"Profit Var\"] / channel_profit[\"Profit PY\"]) * 100\n",
    "\n",
    "# Affichage\n",
    "print(channel_profit.round(2))\n"
   ]
  }
 ],
 "metadata": {
  "kernelspec": {
   "display_name": "base",
   "language": "python",
   "name": "python3"
  },
  "language_info": {
   "codemirror_mode": {
    "name": "ipython",
    "version": 3
   },
   "file_extension": ".py",
   "mimetype": "text/x-python",
   "name": "python",
   "nbconvert_exporter": "python",
   "pygments_lexer": "ipython3",
   "version": "3.12.7"
  }
 },
 "nbformat": 4,
 "nbformat_minor": 5
}
